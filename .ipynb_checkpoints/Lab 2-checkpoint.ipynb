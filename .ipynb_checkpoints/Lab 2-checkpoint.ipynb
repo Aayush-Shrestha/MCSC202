{
 "cells": [
  {
   "cell_type": "code",
   "execution_count": null,
   "id": "67fe8140",
   "metadata": {},
   "outputs": [],
   "source": [
    "import math as m"
   ]
  },
  {
   "cell_type": "code",
   "execution_count": null,
   "id": "5d69eb2b",
   "metadata": {},
   "outputs": [],
   "source": [
    "#this program finds nature of roots of ax^2 +bx + c = 0\n",
    "a , b , c = 1, 1 , 1 \n"
   ]
  },
  {
   "cell_type": "code",
   "execution_count": null,
   "id": "7f409ec1",
   "metadata": {},
   "outputs": [],
   "source": [
    "d = (b**2) - (4*a*c)\n",
    "e1 = ((-b) + (d**0.5))/(2*a)\n",
    "e1 = complex(round(e1.real,2),round(e1.imag,2))\n",
    "e2 = ((-b) - (d**0.5))/(2*a)\n",
    "e2 = complex(round(e2.real,2),round(e2.imag,2))"
   ]
  },
  {
   "cell_type": "code",
   "execution_count": null,
   "id": "be4e9f55",
   "metadata": {
    "scrolled": true
   },
   "outputs": [],
   "source": [
    "if  d < 0:\n",
    "    print('roots are distinct and imaginary')\n",
    "    print('And the roots are ',e1.real,'+',e1.imag,'i',e2)\n",
    "elif d > 0:\n",
    "    print('roots are distinct and real')\n",
    "    print('And the roots are ',e1.real,e2.real)\n",
    "else:\n",
    "    print('roots are real and common')\n",
    "    print('And the roots is ',e1.real)"
   ]
  },
  {
   "cell_type": "code",
   "execution_count": null,
   "id": "c52a32f6",
   "metadata": {},
   "outputs": [],
   "source": [
    "#SUm of first 10 natural numbers\n",
    "n = 0\n",
    "for i in range(1,11):\n",
    "    n+=i\n",
    "print(n)"
   ]
  },
  {
   "cell_type": "code",
   "execution_count": null,
   "id": "15e6c32b",
   "metadata": {},
   "outputs": [],
   "source": [
    "#Sum of squares of first 5 natural numbers\n",
    "n = 0\n",
    "for i in range(1,6):\n",
    "    n+=(i*i)\n",
    "print(n)"
   ]
  },
  {
   "cell_type": "code",
   "execution_count": null,
   "id": "a7d2f436",
   "metadata": {},
   "outputs": [],
   "source": [
    "#smallest n for which 2^n >=2023\n",
    "n = 1\n",
    "i = 0\n",
    "while n <=2023:\n",
    "    n *= 2\n",
    "    i+=1\n",
    "print(i)"
   ]
  },
  {
   "cell_type": "code",
   "execution_count": 11,
   "id": "431dcfb6",
   "metadata": {},
   "outputs": [
    {
     "name": "stdout",
     "output_type": "stream",
     "text": [
      "c\n"
     ]
    }
   ],
   "source": [
    "a =['c','b']\n",
    "print(max(a))"
   ]
  },
  {
   "cell_type": "code",
   "execution_count": 9,
   "id": "26153c4a",
   "metadata": {},
   "outputs": [
    {
     "name": "stdout",
     "output_type": "stream",
     "text": [
      "[1, 2, [8, 4], 1, 2, [8, 4]]\n"
     ]
    }
   ],
   "source": [
    "c= a + b\n",
    "print(c)"
   ]
  },
  {
   "cell_type": "code",
   "execution_count": 4,
   "id": "c7c698b5",
   "metadata": {},
   "outputs": [
    {
     "name": "stdout",
     "output_type": "stream",
     "text": [
      "[-6.28318531 -4.71238898 -3.14159265 -1.57079633  0.          1.57079633\n",
      "  3.14159265  4.71238898  6.28318531]\n"
     ]
    }
   ],
   "source": [
    "import numpy as np\n",
    "x = np.linspace(-2*np.pi,2*np.pi,9)\n",
    "print(x)"
   ]
  },
  {
   "cell_type": "code",
   "execution_count": 10,
   "id": "a959a056",
   "metadata": {},
   "outputs": [],
   "source": [
    "def fun(x):\n",
    "    y = ((x**3) + np.sin(x))\n",
    "    return y"
   ]
  },
  {
   "cell_type": "code",
   "execution_count": 13,
   "id": "c2fb19c4",
   "metadata": {},
   "outputs": [
    {
     "name": "stdout",
     "output_type": "stream",
     "text": [
      "array([-248.05021344, -103.6461838 ,  -31.00627668,   -4.87578459,\n",
      "          0.        ,    4.87578459,   31.00627668,  103.6461838 ,\n",
      "        248.05021344])\n"
     ]
    }
   ],
   "source": [
    "print(repr(fun(x)))"
   ]
  },
  {
   "cell_type": "code",
   "execution_count": 12,
   "id": "baa116ba",
   "metadata": {},
   "outputs": [
    {
     "data": {
      "image/png": "[encoded data removed]",
      "text/plain": [
       "<Figure size 640x480 with 1 Axes>"
      ]
     },
     "metadata": {},
     "output_type": "display_data"
    }
   ],
   "source": [
    "import matplotlib.pyplot as plt\n",
    "plt.plot(x,fun(x))\n",
    "plt.show()"
   ]
  },
  {
   "cell_type": "code",
   "execution_count": null,
   "id": "8689fc73",
   "metadata": {},
   "outputs": [],
   "source": []
  }
 ],
 "metadata": {
  "kernelspec": {
   "display_name": "Python 3 (ipykernel)",
   "language": "python",
   "name": "python3"
  },
  "language_info": {
   "codemirror_mode": {
    "name": "ipython",
    "version": 3
   },
   "file_extension": ".py",
   "mimetype": "text/x-python",
   "name": "python",
   "nbconvert_exporter": "python",
   "pygments_lexer": "ipython3",
   "version": "3.8.10"
  }
 },
 "nbformat": 4,
 "nbformat_minor": 5
}
