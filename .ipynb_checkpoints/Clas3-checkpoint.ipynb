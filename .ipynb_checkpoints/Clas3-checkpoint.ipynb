{
 "cells": [
  {
   "cell_type": "code",
   "execution_count": null,
   "metadata": {
    "id": "rvbnBjdtQaY3"
   },
   "outputs": [],
   "source": [
    "import numpy as np\n",
    "from prettytable import PrettyTable\n",
    "MT = PrettyTable()"
   ]
  },
  {
   "cell_type": "code",
   "execution_count": null,
   "metadata": {
    "id": "Zf21qs38QeYP"
   },
   "outputs": [],
   "source": [
    "def phi(x):\n",
    "  z = (1/ np.arctan(np.e**x))\n",
    "  return z"
   ]
  },
  {
   "cell_type": "code",
   "execution_count": null,
   "metadata": {
    "id": "sQbpcC8wREJO"
   },
   "outputs": [],
   "source": [
    "#set\n",
    "xo = 0.8\n",
    "eps = 0.00001\n",
    "a=1\n",
    "i=0\n",
    "MT.field_names = [\"Step\", \"Xi\", \"Phi(Xi)\"]"
   ]
  },
  {
   "cell_type": "code",
   "execution_count": null,
   "metadata": {
    "id": "GBagD2GIRNGu"
   },
   "outputs": [],
   "source": [
    "while xo!=0 and a>eps:\n",
    "  b = phi(xo)\n",
    "  a = abs(b -xo)\n",
    "  MT.add_row([i, \"%.5f\"%xo, round(b,5)])\n",
    "  i=i+1\n",
    "  xo=b"
   ]
  },
  {
   "cell_type": "code",
   "execution_count": null,
   "metadata": {
    "colab": {
     "base_uri": "https://localhost:8080/"
    },
    "id": "1paUeY5RRu6H",
    "outputId": "2c83272e-c40f-4cda-8af6-339deafd307f"
   },
   "outputs": [
    {
     "name": "stdout",
     "output_type": "stream",
     "text": [
      "+------+---------+---------+\n",
      "| Step |    Xi   | Phi(Xi) |\n",
      "+------+---------+---------+\n",
      "|  0   | 0.80000 |  0.8707 |\n",
      "|  1   | 0.87070 | 0.85156 |\n",
      "|  2   | 0.85156 | 0.85657 |\n",
      "|  3   | 0.85657 | 0.85525 |\n",
      "|  4   | 0.85525 |  0.8556 |\n",
      "|  5   | 0.85560 |  0.8555 |\n",
      "|  6   | 0.85550 | 0.85553 |\n",
      "|  7   | 0.85553 | 0.85552 |\n",
      "+------+---------+---------+\n"
     ]
    }
   ],
   "source": [
    "print(MT)"
   ]
  },
  {
   "cell_type": "code",
   "execution_count": null,
   "metadata": {
    "id": "fUOtzxZiRzcG"
   },
   "outputs": [],
   "source": [
    "x1 = np.linspace(-2,2)\n",
    "y1 = phi(x1)\n",
    "\n",
    "import matplotlib.pyplot as plt\n",
    "plt.plot(x1,y1)\n",
    "plt.plot(x1,x1)\n",
    "plt.plot(xo,phi(xo),'-ro')"
   ]
  },
  {
   "cell_type": "markdown",
   "metadata": {
    "id": "jQxtKpE8ZPJp"
   },
   "source": [
    "newton rhapson method for  x^4 -3x^2-3=0 xo=1 eps=0.0001"
   ]
  },
  {
   "cell_type": "code",
   "execution_count": null,
   "metadata": {
    "id": "dPCkqGXDX3PC"
   },
   "outputs": [],
   "source": [
    "def f(x):\n",
    "  f = (x-2)*(x + 2)**3\n",
    "  return f"
   ]
  },
  {
   "cell_type": "code",
   "execution_count": null,
   "metadata": {
    "id": "0DfYJqNqZUap"
   },
   "outputs": [],
   "source": [
    "def f1(x):\n",
    "  return ((x + 2)**3 + 3*(x-2)*(x + 2)**2)"
   ]
  },
  {
   "cell_type": "code",
   "execution_count": null,
   "metadata": {
    "id": "L5COiehmZdLI"
   },
   "outputs": [],
   "source": [
    "x0 = 3\n",
    "eps = 0.0001\n",
    "a= eps+1\n",
    "t = PrettyTable()"
   ]
  },
  {
   "cell_type": "code",
   "execution_count": null,
   "metadata": {
    "id": "cMRY1DaZZiSA"
   },
   "outputs": [],
   "source": [
    "\n",
    "t.field_names = [\"Step\", \"Xi\",\"f(Xi)\"]\n",
    "i = 0\n",
    "while abs(a)>eps:\n",
    "  t.add_row([i, \"%.4f\"%x0, \"%.4f\"%f(x0)])\n",
    "  i=i+1\n",
    "  a = 3 * f(x0) / f1(x0) \n",
    "  x0 = x0 - a\n"
   ]
  },
  {
   "cell_type": "code",
   "execution_count": null,
   "metadata": {
    "id": "cZZuV_NRatkb"
   },
   "outputs": [],
   "source": [
    "print(t)"
   ]
  },
  {
   "cell_type": "code",
   "execution_count": null,
   "metadata": {
    "id": "83NqQeaGayKQ"
   },
   "outputs": [],
   "source": [
    "a = np.linspace(-3,3)\n",
    "b = f(a)"
   ]
  },
  {
   "cell_type": "code",
   "execution_count": null,
   "metadata": {
    "colab": {
     "base_uri": "https://localhost:8080/",
     "height": 282
    },
    "id": "wwbooVylb3nv",
    "outputId": "0b2856ae-7efd-4982-d426-d5324a723a3f"
   },
   "outputs": [
    {
     "data": {
      "text/plain": [
       "[<matplotlib.lines.Line2D at 0x7f5ab81639d0>]"
      ]
     },
     "execution_count": 63,
     "metadata": {},
     "output_type": "execute_result"
    },
    {
     "data": {
      "image/png": "[encoded data removed]",
      "text/plain": [
       "<Figure size 432x288 with 1 Axes>"
      ]
     },
     "metadata": {
      "needs_background": "light"
     },
     "output_type": "display_data"
    }
   ],
   "source": [
    "plt.plot(a,b)\n",
    "plt.grid()\n",
    "plt.plot(x0,f(x0),'-ro')"
   ]
  },
  {
   "cell_type": "code",
   "execution_count": null,
   "metadata": {
    "colab": {
     "base_uri": "https://localhost:8080/"
    },
    "id": "-etmVhSRcC_H",
    "outputId": "13079da1-710a-413a-c18d-2b71a9192064"
   },
   "outputs": [
    {
     "name": "stdout",
     "output_type": "stream",
     "text": [
      "root of the eqn is  -1.947\n"
     ]
    }
   ],
   "source": [
    "print('root of the eqn is ', round(x0,3))"
   ]
  },
  {
   "cell_type": "code",
   "execution_count": null,
   "metadata": {
    "id": "J6IEsW4vc0q3"
   },
   "outputs": [],
   "source": [
    "#secant\n",
    "\n",
    "\n",
    "x0 = 1\n",
    "x1 = -2\n",
    "eps = 0.0001\n",
    "T = PrettyTable()\n",
    "T.field_names = [\"Step\", \"Xi\",\"f(Xi)\"]"
   ]
  },
  {
   "cell_type": "code",
   "execution_count": null,
   "metadata": {
    "id": "-D9XuU9id5lm"
   },
   "outputs": [],
   "source": [
    "def f(x):\n",
    "   return x**3 +x**2 + x + 7"
   ]
  },
  {
   "cell_type": "code",
   "execution_count": null,
   "metadata": {
    "id": "PDcXoBEGeEPd"
   },
   "outputs": [],
   "source": [
    "T.add_row([1, \"%.4f\"%x0, \"%.4f\"%f(x0)])\n",
    "T.add_row([2, \"%.4f\"%x1, \"%.4f\"%f(x1)])\n",
    "a = eps +1\n",
    "i=3"
   ]
  },
  {
   "cell_type": "code",
   "execution_count": null,
   "metadata": {
    "id": "48BYwv4yedvm"
   },
   "outputs": [],
   "source": [
    "while abs(a)>eps:\n",
    "  x2 = ((x0*f(x1))-(x1*f(x0)))/(f(x1)-f(x0))\n",
    "  a = x2-x1\n",
    "  x0=x1\n",
    "  x1=x2\n",
    "  T.add_row([i,\"%.4f\"%x1, \"%.4f\"%f(x1)])\n",
    "  i+i+1"
   ]
  },
  {
   "cell_type": "code",
   "execution_count": null,
   "metadata": {
    "colab": {
     "base_uri": "https://localhost:8080/"
    },
    "id": "08Bn06XvfXd9",
    "outputId": "165310a4-0c33-4df0-c16e-18b67c7eb8d6"
   },
   "outputs": [
    {
     "name": "stdout",
     "output_type": "stream",
     "text": [
      "+------+---------+---------+\n",
      "| Step |    Xi   |  f(Xi)  |\n",
      "+------+---------+---------+\n",
      "|  1   |  1.0000 | 10.0000 |\n",
      "|  2   | -2.0000 |  1.0000 |\n",
      "|  3   | -2.3333 | -2.5926 |\n",
      "|  3   | -2.0928 |  0.1211 |\n",
      "|  3   | -2.1035 |  0.0136 |\n",
      "|  3   | -2.1049 | -0.0001 |\n",
      "|  3   | -2.1049 |  0.0000 |\n",
      "+------+---------+---------+\n"
     ]
    }
   ],
   "source": [
    "print(T)"
   ]
  },
  {
   "cell_type": "code",
   "execution_count": null,
   "metadata": {
    "colab": {
     "base_uri": "https://localhost:8080/",
     "height": 282
    },
    "id": "AYPNGHHtfZSV",
    "outputId": "c32da73c-6cea-474c-c00f-57a8cabc3bb0"
   },
   "outputs": [
    {
     "data": {
      "text/plain": [
       "[<matplotlib.lines.Line2D at 0x7f5ab7f6ab20>]"
      ]
     },
     "execution_count": 71,
     "metadata": {},
     "output_type": "execute_result"
    },
    {
     "data": {
      "image/png": "[encoded data removed]",
      "text/plain": [
       "<Figure size 432x288 with 1 Axes>"
      ]
     },
     "metadata": {
      "needs_background": "light"
     },
     "output_type": "display_data"
    }
   ],
   "source": [
    "a = np.linspace(-3,3)\n",
    "b = f(a)\n",
    "plt.plot(a,b)\n",
    "plt.grid()\n",
    "plt.plot(x1,f(x1),'-ro')"
   ]
  },
  {
   "cell_type": "code",
   "execution_count": null,
   "metadata": {
    "id": "TDLGyF2fff6V"
   },
   "outputs": [],
   "source": [
    "#bisection\n"
   ]
  },
  {
   "cell_type": "code",
   "execution_count": null,
   "metadata": {
    "id": "HwUTkfdlfsy5"
   },
   "outputs": [],
   "source": [
    "def f(x):\n",
    "  return 2*x*np.cos(2*x) - (x+1)*(x+1)"
   ]
  },
  {
   "cell_type": "code",
   "execution_count": null,
   "metadata": {
    "id": "mt_NK9Hkgd4F"
   },
   "outputs": [],
   "source": [
    "tab = PrettyTable()\n",
    "a = -3\n",
    "b = -2\n",
    "eps = 0.0001\n",
    "tab.field_names = [\"Step\", \"a\",\"b\",\"x\",\"f(x)\"]\n",
    "i =0 "
   ]
  },
  {
   "cell_type": "code",
   "execution_count": null,
   "metadata": {
    "id": "2cDZETPIg0hT"
   },
   "outputs": [],
   "source": [
    "while (f(a)*f(b)<0):\n",
    "  x = (a+b)/2\n",
    "  tab.add_row([i,\"%.4f\"%a,\"%.4f\"%b,\"%.4f\"%x,\"%.4f\"%f(x)])\n",
    "  i = i+1\n",
    "  if (f(x) == 0):\n",
    "    break\n",
    "  elif (f(x)*f(a)<0):\n",
    "    b = x\n",
    "    if(abs(a-x)<eps):\n",
    "      break\n",
    "  else:\n",
    "    a = x\n",
    "    if(abs(b-x)<eps):\n",
    "      break\n",
    "  "
   ]
  },
  {
   "cell_type": "code",
   "execution_count": null,
   "metadata": {
    "colab": {
     "base_uri": "https://localhost:8080/"
    },
    "id": "XyWj_m3qh8kd",
    "outputId": "0c92d701-837c-4c6a-e67a-9f24762daef5"
   },
   "outputs": [
    {
     "name": "stdout",
     "output_type": "stream",
     "text": [
      "+------+---------+---------+---------+---------+\n",
      "| Step |    a    |    b    |    x    |   f(x)  |\n",
      "+------+---------+---------+---------+---------+\n",
      "|  0   | -3.0000 | -2.0000 | -2.5000 | -3.6683 |\n",
      "|  1   | -2.5000 | -2.0000 | -2.2500 | -0.6139 |\n",
      "|  2   | -2.2500 | -2.0000 | -2.1250 |  0.6302 |\n",
      "|  3   | -2.2500 | -2.1250 | -2.1875 |  0.0381 |\n",
      "|  4   | -2.2500 | -2.1875 | -2.2188 | -0.2808 |\n",
      "|  5   | -2.2188 | -2.1875 | -2.2031 | -0.1196 |\n",
      "|  6   | -2.2031 | -2.1875 | -2.1953 | -0.0403 |\n",
      "|  7   | -2.1953 | -2.1875 | -2.1914 | -0.0010 |\n",
      "|  8   | -2.1914 | -2.1875 | -2.1895 |  0.0186 |\n",
      "|  9   | -2.1914 | -2.1895 | -2.1904 |  0.0088 |\n",
      "|  10  | -2.1914 | -2.1904 | -2.1909 |  0.0039 |\n",
      "|  11  | -2.1914 | -2.1909 | -2.1912 |  0.0015 |\n",
      "|  12  | -2.1914 | -2.1912 | -2.1913 |  0.0002 |\n",
      "|  13  | -2.1914 | -2.1913 | -2.1913 | -0.0004 |\n",
      "+------+---------+---------+---------+---------+\n"
     ]
    }
   ],
   "source": [
    "print(tab)"
   ]
  },
  {
   "cell_type": "code",
   "execution_count": null,
   "metadata": {
    "id": "5wWZoO7JiWoD"
   },
   "outputs": [],
   "source": []
  }
 ],
 "metadata": {
  "colab": {
   "provenance": []
  },
  "kernelspec": {
   "display_name": "Python 3 (ipykernel)",
   "language": "python",
   "name": "python3"
  },
  "language_info": {
   "codemirror_mode": {
    "name": "ipython",
    "version": 3
   },
   "file_extension": ".py",
   "mimetype": "text/x-python",
   "name": "python",
   "nbconvert_exporter": "python",
   "pygments_lexer": "ipython3",
   "version": "3.8.10"
  }
 },
 "nbformat": 4,
 "nbformat_minor": 1
}
