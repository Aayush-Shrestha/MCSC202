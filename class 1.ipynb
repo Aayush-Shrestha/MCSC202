{
 "cells": [
  {
   "cell_type": "markdown",
   "id": "fd116288",
   "metadata": {},
   "source": [
    "# CLASS 1                                     \n",
    "## DATE= Feb 8"
   ]
  },
  {
   "cell_type": "code",
   "execution_count": 48,
   "id": "0158e4c1",
   "metadata": {},
   "outputs": [],
   "source": [
    "import math as m"
   ]
  },
  {
   "cell_type": "code",
   "execution_count": 49,
   "id": "ecd18731",
   "metadata": {},
   "outputs": [],
   "source": [
    "x=3 \n",
    "theta = m.pi/3"
   ]
  },
  {
   "cell_type": "code",
   "execution_count": 50,
   "id": "7b5b28e8",
   "metadata": {},
   "outputs": [
    {
     "name": "stdout",
     "output_type": "stream",
     "text": [
      "-14.845\n"
     ]
    }
   ],
   "source": [
    "y = ((x**3) + (m.tan(theta)) - (m.sinh(x**.5)))/(m.log(x)- m.e**theta)\n",
    "print(round(y,3))"
   ]
  },
  {
   "cell_type": "code",
   "execution_count": 53,
   "id": "24915ef3",
   "metadata": {},
   "outputs": [
    {
     "name": "stdout",
     "output_type": "stream",
     "text": [
      "2.72\n"
     ]
    }
   ],
   "source": [
    "print(round(m.e,2))"
   ]
  },
  {
   "cell_type": "code",
   "execution_count": 56,
   "id": "1104dd43",
   "metadata": {},
   "outputs": [
    {
     "name": "stdout",
     "output_type": "stream",
     "text": [
      "2.72\n"
     ]
    }
   ],
   "source": [
    "print('%1.2f'%m.e)"
   ]
  },
  {
   "cell_type": "code",
   "execution_count": null,
   "id": "6cadc9c3",
   "metadata": {},
   "outputs": [],
   "source": []
  }
 ],
 "metadata": {
  "kernelspec": {
   "display_name": "Python 3 (ipykernel)",
   "language": "python",
   "name": "python3"
  },
  "language_info": {
   "codemirror_mode": {
    "name": "ipython",
    "version": 3
   },
   "file_extension": ".py",
   "mimetype": "text/x-python",
   "name": "python",
   "nbconvert_exporter": "python",
   "pygments_lexer": "ipython3",
   "version": "3.8.10"
  },
  "widgets": {
   "application/vnd.jupyter.widget-state+json": {
    "state": {},
    "version_major": 2,
    "version_minor": 0
   }
  }
 },
 "nbformat": 4,
 "nbformat_minor": 5
}
