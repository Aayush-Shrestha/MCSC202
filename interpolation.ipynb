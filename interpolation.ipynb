{
 "cells": [
  {
   "cell_type": "code",
   "execution_count": 1,
   "id": "fcf0221f",
   "metadata": {},
   "outputs": [],
   "source": [
    "from prettytable import PrettyTable\n",
    "import numpy as np\n",
    "import matplotlib.pyplot as plt"
   ]
  },
  {
   "cell_type": "code",
   "execution_count": 2,
   "id": "05555240",
   "metadata": {},
   "outputs": [],
   "source": [
    "class Values:\n",
    "    def __init__(self, x_values, y_values):\n",
    "        self.n = len(x_values)\n",
    "        self.table = [[0 for i in range(self.n+1)] for j in range(self.n)]\n",
    "        for i in range(self.n):\n",
    "            self.table[i][0] = x_values[i]\n",
    "            self.table[i][1] = y_values[i]\n",
    "\n",
    "    def forward(self):\n",
    "        for j in range(2, self.n+1):\n",
    "            for i in range(self.n-j+1):\n",
    "                self.table[i][j] = self.table[i+1][j-1] - self.table[i][j-1]\n",
    "        Table = PrettyTable()\n",
    "        field_names = [\"x\", \"y\"]\n",
    "        for i in range(2, self.n+1):\n",
    "            field_names.append(\"Del\"+str(i-1)+\"y\")\n",
    "        Table.field_names = field_names\n",
    "        for i in range(self.n):\n",
    "            row = [round(self.table[i][0],4), round(self.table[i][1],4)]\n",
    "            for j in range(2, self.n+1):\n",
    "                if i > self.n-j:\n",
    "                    row.append(\" \")\n",
    "                else:\n",
    "                    row.append(round(self.table[i][j],4))\n",
    "            Table.add_row(row)\n",
    "        print(Table)\n",
    "        \n",
    "    def backward(self):\n",
    "        for j in range(2, self.n+1):\n",
    "            for i in range(j-1, self.n):\n",
    "                self.table[i][j] = self.table[i][j-1] - self.table[i-1][j-1]\n",
    "        Table = PrettyTable()\n",
    "        field_names = [\"x\", \"y\"]\n",
    "        for i in range(2, self.n+1):\n",
    "            field_names.append(\"nabla\"+str(i-1)+\"y\")\n",
    "        Table.field_names = field_names\n",
    "        for i in range(self.n):\n",
    "            row = [round(self.table[i][0],4), round(self.table[i][1],4)]\n",
    "            for j in range(2, self.n+1):\n",
    "                if i < j-1:\n",
    "                    row.append(\" \")\n",
    "                else:\n",
    "                    row.append(round(self.table[i][j],4))\n",
    "            Table.add_row(row)\n",
    "        print(Table)\n",
    "        \n",
    "    def central(self):\n",
    "        forward(self)  "
   ]
  },
  {
   "cell_type": "code",
   "execution_count": 3,
   "id": "1454837c",
   "metadata": {
    "scrolled": false
   },
   "outputs": [
    {
     "name": "stdout",
     "output_type": "stream",
     "text": [
      "+------+--------+--------+--------+--------+--------+-------+-------+-------+-------+-------+--------+--------+--------+--------+--------+--------+--------+--------+--------+--------+--------+\n",
      "|  x   |   y    | Del1y  | Del2y  | Del3y  | Del4y  | Del5y | Del6y | Del7y | Del8y | Del9y | Del10y | Del11y | Del12y | Del13y | Del14y | Del15y | Del16y | Del17y | Del18y | Del19y | Del20y |\n",
      "+------+--------+--------+--------+--------+--------+-------+-------+-------+-------+-------+--------+--------+--------+--------+--------+--------+--------+--------+--------+--------+--------+\n",
      "| -1.0 | 0.3679 | 0.0387 | 0.0041 | 0.0004 |  0.0   |  0.0  |  0.0  |  0.0  |  0.0  |  0.0  |  0.0   |  0.0   |  0.0   |  -0.0  |  0.0   |  -0.0  |  0.0   |  -0.0  |  0.0   |  -0.0  |  0.0   |\n",
      "| -0.9 | 0.4066 | 0.0428 | 0.0045 | 0.0005 |  0.0   |  0.0  |  0.0  |  0.0  |  0.0  |  0.0  |  0.0   |  0.0   |  0.0   |  0.0   |  -0.0  |  0.0   |  -0.0  |  0.0   |  -0.0  |  0.0   |        |\n",
      "| -0.8 | 0.4493 | 0.0473 | 0.005  | 0.0005 | 0.0001 |  0.0  |  0.0  |  0.0  |  0.0  |  0.0  |  0.0   |  0.0   |  0.0   |  0.0   |  0.0   |  -0.0  |  0.0   |  -0.0  |  0.0   |        |        |\n",
      "| -0.7 | 0.4966 | 0.0522 | 0.0055 | 0.0006 | 0.0001 |  0.0  |  0.0  |  0.0  |  0.0  |  0.0  |  0.0   |  0.0   |  0.0   |  0.0   |  -0.0  |  0.0   |  -0.0  |  0.0   |        |        |        |\n",
      "| -0.6 | 0.5488 | 0.0577 | 0.0061 | 0.0006 | 0.0001 |  0.0  |  0.0  |  0.0  |  0.0  |  0.0  |  0.0   |  0.0   |  0.0   |  -0.0  |  0.0   |  -0.0  |  0.0   |        |        |        |        |\n",
      "| -0.5 | 0.6065 | 0.0638 | 0.0067 | 0.0007 | 0.0001 |  0.0  |  0.0  |  0.0  |  0.0  |  0.0  |  0.0   |  0.0   |  0.0   |  0.0   |  -0.0  |  0.0   |        |        |        |        |        |\n",
      "| -0.4 | 0.6703 | 0.0705 | 0.0074 | 0.0008 | 0.0001 |  0.0  |  0.0  |  0.0  |  0.0  |  0.0  |  0.0   |  0.0   |  0.0   |  -0.0  |  0.0   |        |        |        |        |        |        |\n",
      "| -0.3 | 0.7408 | 0.0779 | 0.0082 | 0.0009 | 0.0001 |  0.0  |  0.0  |  0.0  |  0.0  |  0.0  |  0.0   |  0.0   |  0.0   |  0.0   |        |        |        |        |        |        |        |\n",
      "| -0.2 | 0.8187 | 0.0861 | 0.0091 | 0.001  | 0.0001 |  0.0  |  0.0  |  0.0  |  0.0  |  0.0  |  0.0   |  0.0   |  0.0   |        |        |        |        |        |        |        |        |\n",
      "| -0.1 | 0.9048 | 0.0952 |  0.01  | 0.0011 | 0.0001 |  0.0  |  0.0  |  0.0  |  0.0  |  0.0  |  0.0   |  0.0   |        |        |        |        |        |        |        |        |        |\n",
      "| 0.0  |  1.0   | 0.1052 | 0.0111 | 0.0012 | 0.0001 |  0.0  |  0.0  |  0.0  |  0.0  |  0.0  |  0.0   |        |        |        |        |        |        |        |        |        |        |\n",
      "| 0.1  | 1.1052 | 0.1162 | 0.0122 | 0.0013 | 0.0001 |  0.0  |  0.0  |  0.0  |  0.0  |  0.0  |        |        |        |        |        |        |        |        |        |        |        |\n",
      "| 0.2  | 1.2214 | 0.1285 | 0.0135 | 0.0014 | 0.0001 |  0.0  |  0.0  |  0.0  |  0.0  |       |        |        |        |        |        |        |        |        |        |        |        |\n",
      "| 0.3  | 1.3499 | 0.142  | 0.0149 | 0.0016 | 0.0002 |  0.0  |  0.0  |  0.0  |       |       |        |        |        |        |        |        |        |        |        |        |        |\n",
      "| 0.4  | 1.4918 | 0.1569 | 0.0165 | 0.0017 | 0.0002 |  0.0  |  0.0  |       |       |       |        |        |        |        |        |        |        |        |        |        |        |\n",
      "| 0.5  | 1.6487 | 0.1734 | 0.0182 | 0.0019 | 0.0002 |  0.0  |       |       |       |       |        |        |        |        |        |        |        |        |        |        |        |\n",
      "| 0.6  | 1.8221 | 0.1916 | 0.0202 | 0.0021 | 0.0002 |       |       |       |       |       |        |        |        |        |        |        |        |        |        |        |        |\n",
      "| 0.7  | 2.0138 | 0.2118 | 0.0223 | 0.0023 |        |       |       |       |       |       |        |        |        |        |        |        |        |        |        |        |        |\n",
      "| 0.8  | 2.2255 | 0.2341 | 0.0246 |        |        |       |       |       |       |       |        |        |        |        |        |        |        |        |        |        |        |\n",
      "| 0.9  | 2.4596 | 0.2587 |        |        |        |       |       |       |       |       |        |        |        |        |        |        |        |        |        |        |        |\n",
      "| 1.0  | 2.7183 |        |        |        |        |       |       |       |       |       |        |        |        |        |        |        |        |        |        |        |        |\n",
      "+------+--------+--------+--------+--------+--------+-------+-------+-------+-------+-------+--------+--------+--------+--------+--------+--------+--------+--------+--------+--------+--------+\n"
     ]
    }
   ],
   "source": [
    "#q1\n",
    "x= np.linspace(-1,1,21)\n",
    "y = np.exp(x)\n",
    "tab = Values(x, y)\n",
    "tab.forward()"
   ]
  },
  {
   "cell_type": "code",
   "execution_count": 4,
   "id": "fe243e15",
   "metadata": {},
   "outputs": [
    {
     "name": "stdout",
     "output_type": "stream",
     "text": [
      "+------+--------+--------+--------+---------+---------+---------+\n",
      "|  x   |   y    | Del1y  | Del2y  |  Del3y  |  Del4y  |  Del5y  |\n",
      "+------+--------+--------+--------+---------+---------+---------+\n",
      "| 0.2  | 1.6596 | 0.0102 | 0.0004 | -0.0002 |  0.0004 | -0.0007 |\n",
      "| 0.22 | 1.6698 | 0.0106 | 0.0002 |  0.0002 | -0.0003 |         |\n",
      "| 0.24 | 1.6804 | 0.0108 | 0.0004 | -0.0001 |         |         |\n",
      "| 0.26 | 1.6912 | 0.0112 | 0.0003 |         |         |         |\n",
      "| 0.28 | 1.7024 | 0.0115 |        |         |         |         |\n",
      "| 0.3  | 1.7139 |        |        |         |         |         |\n",
      "+------+--------+--------+--------+---------+---------+---------+\n"
     ]
    }
   ],
   "source": [
    "#q2\n",
    "x = [0.20 ,0.22 ,0.24 ,0.26 ,0.28 ,0.30]\n",
    "y = [1.6596 ,1.6698, 1.6804, 1.6912, 1.7024, 1.7139]\n",
    "tab = Values(x,y)\n",
    "tab.forward()"
   ]
  },
  {
   "cell_type": "code",
   "execution_count": 5,
   "id": "2cb6fd87",
   "metadata": {},
   "outputs": [
    {
     "name": "stdout",
     "output_type": "stream",
     "text": [
      "1.7646\n"
     ]
    }
   ],
   "source": [
    "X = 0.21\n",
    "h = x[1]-x[0]\n",
    "p = (X-x[0])/h\n",
    "Y = y[0] + tab.table[2][0]*p+(p*p-p)*0.5*tab.table[3][0]+p*(p-1)*(p-2)*tab.table[4][0]/6\n",
    "print(Y)"
   ]
  },
  {
   "cell_type": "code",
   "execution_count": 6,
   "id": "66c96010",
   "metadata": {},
   "outputs": [
    {
     "name": "stdout",
     "output_type": "stream",
     "text": [
      "+------+--------+---------+---------+---------+---------+---------+\n",
      "|  x   |   y    | nabla1y | nabla2y | nabla3y | nabla4y | nabla5y |\n",
      "+------+--------+---------+---------+---------+---------+---------+\n",
      "| 0.2  | 1.6596 |         |         |         |         |         |\n",
      "| 0.22 | 1.6698 |  0.0102 |         |         |         |         |\n",
      "| 0.24 | 1.6804 |  0.0106 |  0.0004 |         |         |         |\n",
      "| 0.26 | 1.6912 |  0.0108 |  0.0002 | -0.0002 |         |         |\n",
      "| 0.28 | 1.7024 |  0.0112 |  0.0004 |  0.0002 |  0.0004 |         |\n",
      "| 0.3  | 1.7139 |  0.0115 |  0.0003 | -0.0001 | -0.0003 | -0.0007 |\n",
      "+------+--------+---------+---------+---------+---------+---------+\n"
     ]
    }
   ],
   "source": [
    "x = [0.20 ,0.22 ,0.24 ,0.26 ,0.28 ,0.30]\n",
    "y = [1.6596 ,1.6698, 1.6804, 1.6912, 1.7024, 1.7139]\n",
    "tab = Values(x,y)\n",
    "tab.backward()"
   ]
  },
  {
   "cell_type": "code",
   "execution_count": 7,
   "id": "7f328718",
   "metadata": {},
   "outputs": [
    {
     "name": "stdout",
     "output_type": "stream",
     "text": [
      "1.713875\n"
     ]
    }
   ],
   "source": [
    "X = 0.29\n",
    "h = x[1]-x[0]\n",
    "p = (X-x[5])/h\n",
    "Y = y[5] + tab.table[2][5]*p+(p*p+p)*0.5*tab.table[3][5]+p*(p+1)*(p+2)*tab.table[4][5]/6\n",
    "print(Y)"
   ]
  },
  {
   "cell_type": "code",
   "execution_count": 8,
   "id": "164f4631",
   "metadata": {},
   "outputs": [],
   "source": [
    "#q3\n",
    "x = [0, 1, 3, 4, 5]\n",
    "y = [0, 1, 81, 256, 625]"
   ]
  },
  {
   "cell_type": "code",
   "execution_count": 9,
   "id": "b3f9c3c8",
   "metadata": {},
   "outputs": [],
   "source": [
    "def lagrange(Xval,Yval,x):\n",
    "    y = 0\n",
    "    for i in range(len(Xval)):\n",
    "        n = d = 1\n",
    "        for j in range(len(Xval)):\n",
    "            if i != j:\n",
    "                n = n*(x-Xval[j])\n",
    "                d = d*(Xval[i]-Xval[j])\n",
    "        y = y + n*Yval[i]/d\n",
    "    return(round(y,4))"
   ]
  },
  {
   "cell_type": "code",
   "execution_count": 10,
   "id": "1fbd72b6",
   "metadata": {},
   "outputs": [
    {
     "name": "stdout",
     "output_type": "stream",
     "text": [
      "16.0\n"
     ]
    }
   ],
   "source": [
    "print(lagrange(x,y,2))"
   ]
  }
 ],
 "metadata": {
  "kernelspec": {
   "display_name": "Python 3 (ipykernel)",
   "language": "python",
   "name": "python3"
  },
  "language_info": {
   "codemirror_mode": {
    "name": "ipython",
    "version": 3
   },
   "file_extension": ".py",
   "mimetype": "text/x-python",
   "name": "python",
   "nbconvert_exporter": "python",
   "pygments_lexer": "ipython3",
   "version": "3.8.10"
  }
 },
 "nbformat": 4,
 "nbformat_minor": 5
}
