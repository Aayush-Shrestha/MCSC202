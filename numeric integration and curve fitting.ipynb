{
 "cells": [
  {
   "cell_type": "code",
   "execution_count": 4,
   "id": "0a37c07d",
   "metadata": {},
   "outputs": [],
   "source": [
    "#numeric integration\n",
    "import numpy as np\n",
    "import matplotlib.pyplot as plt"
   ]
  },
  {
   "cell_type": "code",
   "execution_count": 5,
   "id": "d142a03d",
   "metadata": {},
   "outputs": [],
   "source": [
    "def function(x):\n",
    "    y = np.sin(x)/np.exp(x)\n",
    "    return y"
   ]
  },
  {
   "cell_type": "code",
   "execution_count": 6,
   "id": "0610d3e9",
   "metadata": {},
   "outputs": [],
   "source": [
    "def trapezoid(f,l,s):#first last step\n",
    "    x = np.linspace(f,l,s+1)\n",
    "    I = 0\n",
    "    for i in range(len(x)):\n",
    "        if x[i]>f or x[i]<l:\n",
    "            I += 2*function(x[i])\n",
    "        else:\n",
    "            I += function(x[i])\n",
    "        \n",
    "    return I * 0.5* (x[1]-x[0])"
   ]
  },
  {
   "cell_type": "code",
   "execution_count": 7,
   "id": "ba324d0b",
   "metadata": {},
   "outputs": [
    {
     "data": {
      "text/plain": [
       "0.5194637027711455"
      ]
     },
     "execution_count": 7,
     "metadata": {},
     "output_type": "execute_result"
    }
   ],
   "source": [
    "trapezoid(0,np.pi,20)"
   ]
  },
  {
   "cell_type": "code",
   "execution_count": null,
   "id": "2f316111",
   "metadata": {},
   "outputs": [],
   "source": []
  },
  {
   "cell_type": "code",
   "execution_count": 20,
   "id": "8e4497e7",
   "metadata": {},
   "outputs": [],
   "source": [
    "def f1(x):\n",
    "    y = np.exp(-x*x/2)\n",
    "    return y"
   ]
  },
  {
   "cell_type": "code",
   "execution_count": 21,
   "id": "f743d926",
   "metadata": {},
   "outputs": [],
   "source": [
    "def sim3(f,l,s):#first last step\n",
    "    x = np.linspace(f,l,s+1)\n",
    "    I = 0\n",
    "    for i in range(len(x)):\n",
    "        if x[i]>f or x[i]<l:\n",
    "            if i%2 == 0:\n",
    "                I += 2*f1(x[i])\n",
    "            else:\n",
    "                I += 4*f1(x[i])\n",
    "        else:\n",
    "            I += f1(x[i])\n",
    "    I = I*np.sqrt(1/(2*np.pi))\n",
    "    I = I * (x[1]-x[0])/3\n",
    "    return I "
   ]
  },
  {
   "cell_type": "code",
   "execution_count": 22,
   "id": "662545bb",
   "metadata": {},
   "outputs": [
    {
     "data": {
      "text/plain": [
       "0.9999508833741578"
      ]
     },
     "execution_count": 22,
     "metadata": {},
     "output_type": "execute_result"
    }
   ],
   "source": [
    "sim3(-4,4,50)"
   ]
  },
  {
   "cell_type": "code",
   "execution_count": 8,
   "id": "fb4cc573",
   "metadata": {},
   "outputs": [],
   "source": [
    "#curve fitting"
   ]
  },
  {
   "cell_type": "code",
   "execution_count": 9,
   "id": "3f79c17c",
   "metadata": {},
   "outputs": [],
   "source": [
    "x = np.array([1, 2, 3, 4, 5, 6])\n",
    "y = np.array([2.4, 3.1, 3.5, 4.2, 5.0, 6.0])\n",
    "m = len(x)"
   ]
  },
  {
   "cell_type": "code",
   "execution_count": 10,
   "id": "0cb5bc55",
   "metadata": {},
   "outputs": [],
   "source": [
    "m = len(x)\n",
    "xy_sum = np.sum(x * y)\n",
    "x_sum = np.sum(x)\n",
    "y_sum = np.sum(y)\n",
    "x_squared_sum = np.sum(x ** 2)"
   ]
  },
  {
   "cell_type": "code",
   "execution_count": 11,
   "id": "e7321294",
   "metadata": {},
   "outputs": [],
   "source": [
    "a1 = (m * xy_sum - x_sum * y_sum) / (m * x_squared_sum - x_sum ** 2)\n",
    "a0 = (y_sum - a1 * x_sum) / m"
   ]
  },
  {
   "cell_type": "code",
   "execution_count": 12,
   "id": "90b15408",
   "metadata": {},
   "outputs": [
    {
     "name": "stdout",
     "output_type": "stream",
     "text": [
      "3.336190476190475\n"
     ]
    }
   ],
   "source": [
    "def y1(x): \n",
    "    return a0 + a1 *x \n",
    "print(y1(2.5))"
   ]
  },
  {
   "cell_type": "code",
   "execution_count": 13,
   "id": "c2a27db5",
   "metadata": {},
   "outputs": [
    {
     "data": {
      "text/plain": [
       "[<matplotlib.lines.Line2D at 0x16eb5d8c9a0>]"
      ]
     },
     "execution_count": 13,
     "metadata": {},
     "output_type": "execute_result"
    },
    {
     "data": {
      "image/png": "[encoded data removed]",
      "text/plain": [
       "<Figure size 640x480 with 1 Axes>"
      ]
     },
     "metadata": {},
     "output_type": "display_data"
    }
   ],
   "source": [
    "plt.plot(x,y)\n",
    "plt.plot(x,y1(x))"
   ]
  },
  {
   "cell_type": "code",
   "execution_count": null,
   "id": "c43068a7",
   "metadata": {},
   "outputs": [],
   "source": []
  },
  {
   "cell_type": "code",
   "execution_count": null,
   "id": "ba050253",
   "metadata": {},
   "outputs": [],
   "source": [
    "# curve Fitting"
   ]
  },
  {
   "cell_type": "code",
   "execution_count": 14,
   "id": "fffd5d13",
   "metadata": {},
   "outputs": [],
   "source": [
    "x = np.array([2,4,6,8,10])\n",
    "y =  np.array([4.077, 11.084, 30.128, 81.897, 222.62])\n"
   ]
  },
  {
   "cell_type": "code",
   "execution_count": 15,
   "id": "14a19e67",
   "metadata": {},
   "outputs": [],
   "source": [
    "Y = np.log(y)\n",
    "m = len(x)\n",
    "xY_sum = np.sum(x * Y)\n",
    "x_sum = np.sum(x)\n",
    "Y_sum = np.sum(Y)\n",
    "x_squared_sum = np.sum(x ** 2)"
   ]
  },
  {
   "cell_type": "code",
   "execution_count": 16,
   "id": "6bff617d",
   "metadata": {},
   "outputs": [],
   "source": [
    "a1 = (m * xY_sum - x_sum * Y_sum) / (m * x_squared_sum - x_sum ** 2)\n",
    "a0 = (Y_sum - a1 * x_sum) / m"
   ]
  },
  {
   "cell_type": "code",
   "execution_count": 17,
   "id": "7a23afdf",
   "metadata": {},
   "outputs": [],
   "source": [
    "def y2(x):\n",
    "    Y2 = a0 + a1*x\n",
    "    return np.exp(Y2)"
   ]
  },
  {
   "cell_type": "code",
   "execution_count": 18,
   "id": "7616ff57",
   "metadata": {},
   "outputs": [
    {
     "name": "stdout",
     "output_type": "stream",
     "text": [
      "135.027025924343\n"
     ]
    }
   ],
   "source": [
    "print(y2(9))"
   ]
  },
  {
   "cell_type": "code",
   "execution_count": 19,
   "id": "9b1d899f",
   "metadata": {},
   "outputs": [
    {
     "data": {
      "text/plain": [
       "[<matplotlib.lines.Line2D at 0x16eb5e12c70>]"
      ]
     },
     "execution_count": 19,
     "metadata": {},
     "output_type": "execute_result"
    },
    {
     "data": {
      "image/png": "[encoded data removed]",
      "text/plain": [
       "<Figure size 640x480 with 1 Axes>"
      ]
     },
     "metadata": {},
     "output_type": "display_data"
    }
   ],
   "source": [
    "plt.plot(x,y)"
   ]
  },
  {
   "cell_type": "code",
   "execution_count": 20,
   "id": "4f535e95",
   "metadata": {},
   "outputs": [
    {
     "data": {
      "text/plain": [
       "[<matplotlib.lines.Line2D at 0x16eb5e96b50>]"
      ]
     },
     "execution_count": 20,
     "metadata": {},
     "output_type": "execute_result"
    },
    {
     "data": {
      "image/png": "[encoded data removed]",
      "text/plain": [
       "<Figure size 640x480 with 1 Axes>"
      ]
     },
     "metadata": {},
     "output_type": "display_data"
    }
   ],
   "source": [
    "plt.plot(x,y2(x))"
   ]
  },
  {
   "cell_type": "code",
   "execution_count": null,
   "id": "2a37143a",
   "metadata": {},
   "outputs": [],
   "source": []
  },
  {
   "cell_type": "code",
   "execution_count": null,
   "id": "ad15accf",
   "metadata": {},
   "outputs": [],
   "source": []
  },
  {
   "cell_type": "code",
   "execution_count": 35,
   "id": "1c496226",
   "metadata": {},
   "outputs": [],
   "source": [
    "#numeric differentiation\n",
    "from prettytable import PrettyTable"
   ]
  },
  {
   "cell_type": "code",
   "execution_count": 36,
   "id": "30d4c9bf",
   "metadata": {},
   "outputs": [],
   "source": [
    "x = np.linspace(0,2,21)\n",
    "y = np.zeros(len(x))\n",
    "h = x[1]-x[0]\n",
    "y[0]= 1\n",
    "MT = PrettyTable()\n",
    "MT.field_names = [\"X\", \"Y\"]"
   ]
  },
  {
   "cell_type": "code",
   "execution_count": 37,
   "id": "c6280162",
   "metadata": {},
   "outputs": [],
   "source": [
    "def f1(x):\n",
    "    return x*x+x"
   ]
  },
  {
   "cell_type": "code",
   "execution_count": 38,
   "id": "74a06747",
   "metadata": {},
   "outputs": [],
   "source": [
    "MT.add_row([round(x[0],4),round(y[0],4)])\n",
    "for i in range(1,len(y)):\n",
    "    y[i] = y[i-1] +h*f1(x[i-1])\n",
    "    MT.add_row([round(x[i],4),round(y[i],4)])"
   ]
  },
  {
   "cell_type": "code",
   "execution_count": 39,
   "id": "7688306c",
   "metadata": {},
   "outputs": [
    {
     "data": {
      "text/plain": [
       "[<matplotlib.lines.Line2D at 0x16eb816e730>]"
      ]
     },
     "execution_count": 39,
     "metadata": {},
     "output_type": "execute_result"
    },
    {
     "data": {
      "image/png": "[encoded data removed]",
      "text/plain": [
       "<Figure size 640x480 with 1 Axes>"
      ]
     },
     "metadata": {},
     "output_type": "display_data"
    }
   ],
   "source": [
    "plt.plot(x,y)"
   ]
  },
  {
   "cell_type": "code",
   "execution_count": 40,
   "id": "52355f87",
   "metadata": {},
   "outputs": [
    {
     "name": "stdout",
     "output_type": "stream",
     "text": [
      "+-----+-------+\n",
      "|  X  |   Y   |\n",
      "+-----+-------+\n",
      "| 0.0 |  1.0  |\n",
      "| 0.1 |  1.0  |\n",
      "| 0.2 | 1.011 |\n",
      "| 0.3 | 1.035 |\n",
      "| 0.4 | 1.074 |\n",
      "| 0.5 |  1.13 |\n",
      "| 0.6 | 1.205 |\n",
      "| 0.7 | 1.301 |\n",
      "| 0.8 |  1.42 |\n",
      "| 0.9 | 1.564 |\n",
      "| 1.0 | 1.735 |\n",
      "| 1.1 | 1.935 |\n",
      "| 1.2 | 2.166 |\n",
      "| 1.3 |  2.43 |\n",
      "| 1.4 | 2.729 |\n",
      "| 1.5 | 3.065 |\n",
      "| 1.6 |  3.44 |\n",
      "| 1.7 | 3.856 |\n",
      "| 1.8 | 4.315 |\n",
      "| 1.9 | 4.819 |\n",
      "| 2.0 |  5.37 |\n",
      "+-----+-------+\n"
     ]
    }
   ],
   "source": [
    "print(MT)"
   ]
  },
  {
   "cell_type": "code",
   "execution_count": null,
   "id": "ca175eee",
   "metadata": {},
   "outputs": [],
   "source": []
  },
  {
   "cell_type": "code",
   "execution_count": null,
   "id": "0a0eb2bd",
   "metadata": {},
   "outputs": [],
   "source": []
  },
  {
   "cell_type": "code",
   "execution_count": 43,
   "id": "e92e9b95",
   "metadata": {},
   "outputs": [],
   "source": [
    "x = np.linspace(0,2,11)\n",
    "y = np.zeros(len(x))\n",
    "y[0] = 1\n",
    "MT = PrettyTable()\n",
    "MT.field_names = [\"X\", \"Y\"]"
   ]
  },
  {
   "cell_type": "code",
   "execution_count": 46,
   "id": "2622ea2f",
   "metadata": {},
   "outputs": [],
   "source": [
    "MT.add_row([round(x[0],4),round(y[0],4)])\n",
    "for i in range(1,len(y)):\n",
    "    y[i] = y[i-1] + h *  0.5 * (f1(x[i-1]) + f1(x[i-1] + h) )\n",
    "    MT.add_row([round(x[i],4),round(y[i],4)])"
   ]
  },
  {
   "cell_type": "code",
   "execution_count": 47,
   "id": "42744fd2",
   "metadata": {},
   "outputs": [
    {
     "data": {
      "text/plain": [
       "[<matplotlib.lines.Line2D at 0x16eb9563130>]"
      ]
     },
     "execution_count": 47,
     "metadata": {},
     "output_type": "execute_result"
    },
    {
     "data": {
      "image/png": "[encoded data removed]",
      "text/plain": [
       "<Figure size 640x480 with 1 Axes>"
      ]
     },
     "metadata": {},
     "output_type": "display_data"
    }
   ],
   "source": [
    "plt.plot(x,y)"
   ]
  },
  {
   "cell_type": "code",
   "execution_count": 48,
   "id": "f2b72985",
   "metadata": {},
   "outputs": [
    {
     "name": "stdout",
     "output_type": "stream",
     "text": [
      "+-----+--------+\n",
      "|  X  |   Y    |\n",
      "+-----+--------+\n",
      "| 0.0 |  1.0   |\n",
      "| 0.0 |  1.0   |\n",
      "| 0.0 |  1.0   |\n",
      "| 0.2 | 1.0055 |\n",
      "| 0.4 | 1.037  |\n",
      "| 0.6 | 1.1025 |\n",
      "| 0.8 |  1.21  |\n",
      "| 1.0 | 1.3675 |\n",
      "| 1.2 | 1.583  |\n",
      "| 1.4 | 1.8645 |\n",
      "| 1.6 |  2.22  |\n",
      "| 1.8 | 2.6575 |\n",
      "| 2.0 | 3.185  |\n",
      "+-----+--------+\n"
     ]
    }
   ],
   "source": [
    "print(MT)"
   ]
  },
  {
   "cell_type": "code",
   "execution_count": null,
   "id": "d8bdfbb5",
   "metadata": {},
   "outputs": [],
   "source": []
  },
  {
   "cell_type": "code",
   "execution_count": null,
   "id": "7dca57f8",
   "metadata": {},
   "outputs": [],
   "source": []
  },
  {
   "cell_type": "code",
   "execution_count": null,
   "id": "5431c315",
   "metadata": {},
   "outputs": [],
   "source": [
    "Implement the Boundary valued second order differential equation y\" − 64y′ + 10 = 0 by using finite\n",
    "different method with boundary conditions y(0) = y(1) = 0 and taking the step sizeh = 0.1."
   ]
  },
  {
   "cell_type": "code",
   "execution_count": 50,
   "id": "e0f7e1e6",
   "metadata": {},
   "outputs": [],
   "source": [
    "x = np.linspace(0,1,11)\n",
    "y = np.zeros(len(x))\n",
    "y[0] = y[-1] = 0\n",
    "MT = PrettyTable()\n",
    "MT.field_names = [\"X\",\"Y\"]"
   ]
  },
  {
   "cell_type": "code",
   "execution_count": null,
   "id": "f9f3010d",
   "metadata": {},
   "outputs": [],
   "source": []
  },
  {
   "cell_type": "code",
   "execution_count": null,
   "id": "98917f73",
   "metadata": {},
   "outputs": [],
   "source": []
  }
 ],
 "metadata": {
  "kernelspec": {
   "display_name": "Python 3 (ipykernel)",
   "language": "python",
   "name": "python3"
  },
  "language_info": {
   "codemirror_mode": {
    "name": "ipython",
    "version": 3
   },
   "file_extension": ".py",
   "mimetype": "text/x-python",
   "name": "python",
   "nbconvert_exporter": "python",
   "pygments_lexer": "ipython3",
   "version": "3.8.10"
  }
 },
 "nbformat": 4,
 "nbformat_minor": 5
}
