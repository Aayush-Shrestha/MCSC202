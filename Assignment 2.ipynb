{
 "cells": [
  {
   "cell_type": "code",
   "execution_count": 1,
   "id": "0737cb78",
   "metadata": {},
   "outputs": [],
   "source": [
    "import numpy as np\n",
    "from prettytable import PrettyTable\n",
    "import matplotlib.pyplot as plt"
   ]
  },
  {
   "cell_type": "code",
   "execution_count": 2,
   "id": "39cf9194",
   "metadata": {},
   "outputs": [],
   "source": [
    "#A. Finding Roots of the Equations:"
   ]
  },
  {
   "cell_type": "code",
   "execution_count": 3,
   "id": "48d51691",
   "metadata": {},
   "outputs": [],
   "source": [
    "#q1"
   ]
  },
  {
   "cell_type": "code",
   "execution_count": 4,
   "id": "6ccbf4bf",
   "metadata": {},
   "outputs": [],
   "source": [
    "def f(x):\n",
    "    return x*x - np.sin(x)"
   ]
  },
  {
   "cell_type": "code",
   "execution_count": 5,
   "id": "c357ed63",
   "metadata": {},
   "outputs": [],
   "source": [
    "tab = PrettyTable()\n",
    "a = 0.5\n",
    "b = 1\n",
    "eps = 0.0001\n",
    "tab.field_names = [\"Step\", \"a\",\"b\",\"x\",\"f(x)\"]\n",
    "i =0 "
   ]
  },
  {
   "cell_type": "code",
   "execution_count": 6,
   "id": "d5263936",
   "metadata": {},
   "outputs": [],
   "source": [
    "while (f(a)*f(b)<0):\n",
    "    x = (a+b)/2\n",
    "    tab.add_row([i,\"%.4f\"%a,\"%.4f\"%b,\"%.4f\"%x,\"%.4f\"%f(x)])\n",
    "    i = i+1\n",
    "    if (f(x) == 0):\n",
    "        break\n",
    "    elif (f(x)*f(a)<0):\n",
    "        b = x\n",
    "        if(abs(a-x)<eps):\n",
    "            break\n",
    "    else:\n",
    "        a = x\n",
    "        if(abs(b-x)<eps):\n",
    "            break"
   ]
  },
  {
   "cell_type": "code",
   "execution_count": 7,
   "id": "dd6c0ea3",
   "metadata": {},
   "outputs": [
    {
     "name": "stdout",
     "output_type": "stream",
     "text": [
      "+------+--------+--------+--------+---------+\n",
      "| Step |   a    |   b    |   x    |   f(x)  |\n",
      "+------+--------+--------+--------+---------+\n",
      "|  0   | 0.5000 | 1.0000 | 0.7500 | -0.1191 |\n",
      "|  1   | 0.7500 | 1.0000 | 0.8750 | -0.0019 |\n",
      "|  2   | 0.8750 | 1.0000 | 0.9375 |  0.0728 |\n",
      "|  3   | 0.8750 | 0.9375 | 0.9062 |  0.0341 |\n",
      "|  4   | 0.8750 | 0.9062 | 0.8906 |  0.0157 |\n",
      "|  5   | 0.8750 | 0.8906 | 0.8828 |  0.0068 |\n",
      "|  6   | 0.8750 | 0.8828 | 0.8789 |  0.0024 |\n",
      "|  7   | 0.8750 | 0.8789 | 0.8770 |  0.0003 |\n",
      "|  8   | 0.8750 | 0.8770 | 0.8760 | -0.0008 |\n",
      "|  9   | 0.8760 | 0.8770 | 0.8765 | -0.0003 |\n",
      "|  10  | 0.8765 | 0.8770 | 0.8767 | -0.0000 |\n",
      "|  11  | 0.8767 | 0.8770 | 0.8768 |  0.0001 |\n",
      "|  12  | 0.8767 | 0.8768 | 0.8768 |  0.0000 |\n",
      "+------+--------+--------+--------+---------+\n"
     ]
    }
   ],
   "source": [
    "print(tab)"
   ]
  },
  {
   "cell_type": "markdown",
   "id": "67ff4060",
   "metadata": {},
   "source": [
    "<hr style=\"height:2px;border-width:0;color:gray;background-color:gray\">"
   ]
  },
  {
   "cell_type": "code",
   "execution_count": 8,
   "id": "9f25ba6b",
   "metadata": {},
   "outputs": [],
   "source": [
    "#q2"
   ]
  },
  {
   "cell_type": "code",
   "execution_count": 9,
   "id": "49f97640",
   "metadata": {},
   "outputs": [],
   "source": [
    "def f(x):\n",
    "    return (4*x - np.exp(x))"
   ]
  },
  {
   "cell_type": "code",
   "execution_count": 10,
   "id": "68a328eb",
   "metadata": {},
   "outputs": [],
   "source": [
    "def f1(x):\n",
    "    return (4 - np.exp(x))"
   ]
  },
  {
   "cell_type": "code",
   "execution_count": 11,
   "id": "6588ad90",
   "metadata": {},
   "outputs": [],
   "source": [
    "x0 = 1\n",
    "eps = 0.0001\n",
    "a= eps+1\n",
    "t = PrettyTable()"
   ]
  },
  {
   "cell_type": "code",
   "execution_count": 12,
   "id": "98cfd3c4",
   "metadata": {},
   "outputs": [],
   "source": [
    "t.field_names = [\"Step\", \"Xi\",\"f(Xi)\"]\n",
    "i = 0\n",
    "while abs(a)>eps:\n",
    "    t.add_row([i, \"%.4f\"%x0, \"%.4f\"%f(x0)])\n",
    "    i = i+1\n",
    "    a = f(x0) / f1(x0) \n",
    "    x0 = x0 - a"
   ]
  },
  {
   "cell_type": "code",
   "execution_count": 13,
   "id": "95277869",
   "metadata": {},
   "outputs": [
    {
     "name": "stdout",
     "output_type": "stream",
     "text": [
      "+------+--------+---------+\n",
      "| Step |   Xi   |  f(Xi)  |\n",
      "+------+--------+---------+\n",
      "|  0   | 1.0000 |  1.2817 |\n",
      "|  1   | 0.0000 | -1.0000 |\n",
      "|  2   | 0.3333 | -0.0623 |\n",
      "|  3   | 0.3572 | -0.0004 |\n",
      "|  4   | 0.3574 | -0.0000 |\n",
      "+------+--------+---------+\n"
     ]
    }
   ],
   "source": [
    "print(t)"
   ]
  },
  {
   "cell_type": "markdown",
   "id": "aa2bb538",
   "metadata": {},
   "source": [
    "<hr style=\"height:2px;border-width:0;color:gray;background-color:gray\">\n",
    "<hr style=\"height:2px;border-width:0;color:gray;background-color:gray\">"
   ]
  },
  {
   "cell_type": "code",
   "execution_count": 14,
   "id": "f83c7d45",
   "metadata": {},
   "outputs": [],
   "source": [
    "#B. Interpolation"
   ]
  },
  {
   "cell_type": "code",
   "execution_count": 15,
   "id": "e030d22d",
   "metadata": {},
   "outputs": [],
   "source": [
    "class Values:\n",
    "    def __init__(self, x_values, y_values):\n",
    "        self.n = len(x_values)\n",
    "        self.table = [[0 for i in range(self.n+1)] for j in range(self.n)]\n",
    "        for i in range(self.n):\n",
    "            self.table[i][0] = x_values[i]\n",
    "            self.table[i][1] = y_values[i]\n",
    "\n",
    "    def forward(self):\n",
    "        for j in range(2, self.n+1):\n",
    "            for i in range(self.n-j+1):\n",
    "                self.table[i][j] = self.table[i+1][j-1] - self.table[i][j-1]\n",
    "        Table = PrettyTable()\n",
    "        field_names = [\"x\", \"y\"]\n",
    "        for i in range(2, self.n+1):\n",
    "            field_names.append(\"Del\"+str(i-1)+\"y\")\n",
    "        Table.field_names = field_names\n",
    "        for i in range(self.n):\n",
    "            row = [round(self.table[i][0],4), round(self.table[i][1],4)]\n",
    "            for j in range(2, self.n+1):\n",
    "                if i > self.n-j:\n",
    "                    row.append(\" \")\n",
    "                else:\n",
    "                    row.append(round(self.table[i][j],4))\n",
    "            Table.add_row(row)\n",
    "        print(Table)\n",
    "        \n",
    "    def backward(self):\n",
    "        for j in range(2, self.n+1):\n",
    "            for i in range(j-1, self.n):\n",
    "                self.table[i][j] = self.table[i][j-1] - self.table[i-1][j-1]\n",
    "        Table = PrettyTable()\n",
    "        field_names = [\"x\", \"y\"]\n",
    "        for i in range(2, self.n+1):\n",
    "            field_names.append(\"nabla\"+str(i-1)+\"y\")\n",
    "        Table.field_names = field_names\n",
    "        for i in range(self.n):\n",
    "            row = [round(self.table[i][0],4), round(self.table[i][1],4)]\n",
    "            for j in range(2, self.n+1):\n",
    "                if i < j-1:\n",
    "                    row.append(\" \")\n",
    "                else:\n",
    "                    row.append(round(self.table[i][j],4))\n",
    "            Table.add_row(row)\n",
    "        print(Table)\n",
    "        \n",
    "    def central(self):\n",
    "        forward(self)  "
   ]
  },
  {
   "cell_type": "code",
   "execution_count": 16,
   "id": "c2b69383",
   "metadata": {},
   "outputs": [],
   "source": [
    "#q3"
   ]
  },
  {
   "cell_type": "code",
   "execution_count": 17,
   "id": "906301a7",
   "metadata": {},
   "outputs": [
    {
     "data": {
      "text/html": [
       "<style>pre { white-space: pre !important; }</style>"
      ],
      "text/plain": [
       "<IPython.core.display.HTML object>"
      ]
     },
     "metadata": {},
     "output_type": "display_data"
    }
   ],
   "source": [
    "from IPython.display import display, HTML\n",
    "display(HTML(\"<style>pre { white-space: pre !important; }</style>\"))"
   ]
  },
  {
   "cell_type": "code",
   "execution_count": 18,
   "id": "371659e1",
   "metadata": {
    "scrolled": false
   },
   "outputs": [
    {
     "name": "stdout",
     "output_type": "stream",
     "text": [
      "+------+--------+--------+--------+--------+--------+-------+-------+-------+-------+-------+--------+--------+--------+--------+--------+--------+--------+--------+--------+--------+--------+\n",
      "|  x   |   y    | Del1y  | Del2y  | Del3y  | Del4y  | Del5y | Del6y | Del7y | Del8y | Del9y | Del10y | Del11y | Del12y | Del13y | Del14y | Del15y | Del16y | Del17y | Del18y | Del19y | Del20y |\n",
      "+------+--------+--------+--------+--------+--------+-------+-------+-------+-------+-------+--------+--------+--------+--------+--------+--------+--------+--------+--------+--------+--------+\n",
      "| -1.0 | 0.3679 | 0.0387 | 0.0041 | 0.0004 |  0.0   |  0.0  |  0.0  |  0.0  |  0.0  |  0.0  |  0.0   |  0.0   |  0.0   |  -0.0  |  0.0   |  -0.0  |  0.0   |  -0.0  |  0.0   |  -0.0  |  0.0   |\n",
      "| -0.9 | 0.4066 | 0.0428 | 0.0045 | 0.0005 |  0.0   |  0.0  |  0.0  |  0.0  |  0.0  |  0.0  |  0.0   |  0.0   |  0.0   |  0.0   |  -0.0  |  0.0   |  -0.0  |  0.0   |  -0.0  |  0.0   |        |\n",
      "| -0.8 | 0.4493 | 0.0473 | 0.005  | 0.0005 | 0.0001 |  0.0  |  0.0  |  0.0  |  0.0  |  0.0  |  0.0   |  0.0   |  0.0   |  0.0   |  0.0   |  -0.0  |  0.0   |  -0.0  |  0.0   |        |        |\n",
      "| -0.7 | 0.4966 | 0.0522 | 0.0055 | 0.0006 | 0.0001 |  0.0  |  0.0  |  0.0  |  0.0  |  0.0  |  0.0   |  0.0   |  0.0   |  0.0   |  -0.0  |  0.0   |  -0.0  |  0.0   |        |        |        |\n",
      "| -0.6 | 0.5488 | 0.0577 | 0.0061 | 0.0006 | 0.0001 |  0.0  |  0.0  |  0.0  |  0.0  |  0.0  |  0.0   |  0.0   |  0.0   |  -0.0  |  0.0   |  -0.0  |  0.0   |        |        |        |        |\n",
      "| -0.5 | 0.6065 | 0.0638 | 0.0067 | 0.0007 | 0.0001 |  0.0  |  0.0  |  0.0  |  0.0  |  0.0  |  0.0   |  0.0   |  0.0   |  0.0   |  -0.0  |  0.0   |        |        |        |        |        |\n",
      "| -0.4 | 0.6703 | 0.0705 | 0.0074 | 0.0008 | 0.0001 |  0.0  |  0.0  |  0.0  |  0.0  |  0.0  |  0.0   |  0.0   |  0.0   |  -0.0  |  0.0   |        |        |        |        |        |        |\n",
      "| -0.3 | 0.7408 | 0.0779 | 0.0082 | 0.0009 | 0.0001 |  0.0  |  0.0  |  0.0  |  0.0  |  0.0  |  0.0   |  0.0   |  0.0   |  0.0   |        |        |        |        |        |        |        |\n",
      "| -0.2 | 0.8187 | 0.0861 | 0.0091 | 0.001  | 0.0001 |  0.0  |  0.0  |  0.0  |  0.0  |  0.0  |  0.0   |  0.0   |  0.0   |        |        |        |        |        |        |        |        |\n",
      "| -0.1 | 0.9048 | 0.0952 |  0.01  | 0.0011 | 0.0001 |  0.0  |  0.0  |  0.0  |  0.0  |  0.0  |  0.0   |  0.0   |        |        |        |        |        |        |        |        |        |\n",
      "| 0.0  |  1.0   | 0.1052 | 0.0111 | 0.0012 | 0.0001 |  0.0  |  0.0  |  0.0  |  0.0  |  0.0  |  0.0   |        |        |        |        |        |        |        |        |        |        |\n",
      "| 0.1  | 1.1052 | 0.1162 | 0.0122 | 0.0013 | 0.0001 |  0.0  |  0.0  |  0.0  |  0.0  |  0.0  |        |        |        |        |        |        |        |        |        |        |        |\n",
      "| 0.2  | 1.2214 | 0.1285 | 0.0135 | 0.0014 | 0.0001 |  0.0  |  0.0  |  0.0  |  0.0  |       |        |        |        |        |        |        |        |        |        |        |        |\n",
      "| 0.3  | 1.3499 | 0.142  | 0.0149 | 0.0016 | 0.0002 |  0.0  |  0.0  |  0.0  |       |       |        |        |        |        |        |        |        |        |        |        |        |\n",
      "| 0.4  | 1.4918 | 0.1569 | 0.0165 | 0.0017 | 0.0002 |  0.0  |  0.0  |       |       |       |        |        |        |        |        |        |        |        |        |        |        |\n",
      "| 0.5  | 1.6487 | 0.1734 | 0.0182 | 0.0019 | 0.0002 |  0.0  |       |       |       |       |        |        |        |        |        |        |        |        |        |        |        |\n",
      "| 0.6  | 1.8221 | 0.1916 | 0.0202 | 0.0021 | 0.0002 |       |       |       |       |       |        |        |        |        |        |        |        |        |        |        |        |\n",
      "| 0.7  | 2.0138 | 0.2118 | 0.0223 | 0.0023 |        |       |       |       |       |       |        |        |        |        |        |        |        |        |        |        |        |\n",
      "| 0.8  | 2.2255 | 0.2341 | 0.0246 |        |        |       |       |       |       |       |        |        |        |        |        |        |        |        |        |        |        |\n",
      "| 0.9  | 2.4596 | 0.2587 |        |        |        |       |       |       |       |       |        |        |        |        |        |        |        |        |        |        |        |\n",
      "| 1.0  | 2.7183 |        |        |        |        |       |       |       |       |       |        |        |        |        |        |        |        |        |        |        |        |\n",
      "+------+--------+--------+--------+--------+--------+-------+-------+-------+-------+-------+--------+--------+--------+--------+--------+--------+--------+--------+--------+--------+--------+\n"
     ]
    }
   ],
   "source": [
    "x= np.linspace(-1,1,21)\n",
    "y = np.exp(x)\n",
    "tab = Values(x, y)\n",
    "tab.forward()"
   ]
  },
  {
   "cell_type": "markdown",
   "id": "083c1944",
   "metadata": {},
   "source": [
    "<hr style=\"height:2px;border-width:0;color:gray;background-color:gray\">"
   ]
  },
  {
   "cell_type": "code",
   "execution_count": 19,
   "id": "949c4c9c",
   "metadata": {},
   "outputs": [],
   "source": [
    "#q4"
   ]
  },
  {
   "cell_type": "code",
   "execution_count": 20,
   "id": "15dae80b",
   "metadata": {},
   "outputs": [
    {
     "name": "stdout",
     "output_type": "stream",
     "text": [
      "+------+--------+--------+--------+---------+---------+---------+\n",
      "|  x   |   y    | Del1y  | Del2y  |  Del3y  |  Del4y  |  Del5y  |\n",
      "+------+--------+--------+--------+---------+---------+---------+\n",
      "| 0.2  | 1.6596 | 0.0102 | 0.0004 | -0.0002 |  0.0004 | -0.0007 |\n",
      "| 0.22 | 1.6698 | 0.0106 | 0.0002 |  0.0002 | -0.0003 |         |\n",
      "| 0.24 | 1.6804 | 0.0108 | 0.0004 | -0.0001 |         |         |\n",
      "| 0.26 | 1.6912 | 0.0112 | 0.0003 |         |         |         |\n",
      "| 0.28 | 1.7024 | 0.0115 |        |         |         |         |\n",
      "| 0.3  | 1.7139 |        |        |         |         |         |\n",
      "+------+--------+--------+--------+---------+---------+---------+\n"
     ]
    }
   ],
   "source": [
    "x = [0.20 ,0.22 ,0.24 ,0.26 ,0.28 ,0.30]\n",
    "y = [1.6596 ,1.6698, 1.6804, 1.6912, 1.7024, 1.7139]\n",
    "tab = Values(x,y)\n",
    "tab.forward()"
   ]
  },
  {
   "cell_type": "code",
   "execution_count": 21,
   "id": "5a27666f",
   "metadata": {},
   "outputs": [
    {
     "name": "stdout",
     "output_type": "stream",
     "text": [
      "1.7646\n"
     ]
    }
   ],
   "source": [
    "X = 0.21\n",
    "h = x[1]-x[0]\n",
    "p = (X-x[0])/h\n",
    "Y = y[0] + tab.table[2][0]*p+(p*p-p)*0.5*tab.table[3][0]+p*(p-1)*(p-2)*tab.table[4][0]/6\n",
    "print(Y)"
   ]
  },
  {
   "cell_type": "code",
   "execution_count": 22,
   "id": "e5eb841f",
   "metadata": {},
   "outputs": [
    {
     "name": "stdout",
     "output_type": "stream",
     "text": [
      "+------+--------+---------+---------+---------+---------+---------+\n",
      "|  x   |   y    | nabla1y | nabla2y | nabla3y | nabla4y | nabla5y |\n",
      "+------+--------+---------+---------+---------+---------+---------+\n",
      "| 0.2  | 1.6596 |         |         |         |         |         |\n",
      "| 0.22 | 1.6698 |  0.0102 |         |         |         |         |\n",
      "| 0.24 | 1.6804 |  0.0106 |  0.0004 |         |         |         |\n",
      "| 0.26 | 1.6912 |  0.0108 |  0.0002 | -0.0002 |         |         |\n",
      "| 0.28 | 1.7024 |  0.0112 |  0.0004 |  0.0002 |  0.0004 |         |\n",
      "| 0.3  | 1.7139 |  0.0115 |  0.0003 | -0.0001 | -0.0003 | -0.0007 |\n",
      "+------+--------+---------+---------+---------+---------+---------+\n"
     ]
    }
   ],
   "source": [
    "x = [0.20 ,0.22 ,0.24 ,0.26 ,0.28 ,0.30]\n",
    "y = [1.6596 ,1.6698, 1.6804, 1.6912, 1.7024, 1.7139]\n",
    "tab = Values(x,y)\n",
    "tab.backward()"
   ]
  },
  {
   "cell_type": "code",
   "execution_count": 23,
   "id": "9b3ce040",
   "metadata": {},
   "outputs": [
    {
     "name": "stdout",
     "output_type": "stream",
     "text": [
      "1.713875\n"
     ]
    }
   ],
   "source": [
    "X = 0.29\n",
    "h = x[1]-x[0]\n",
    "p = (X-x[5])/h\n",
    "Y = y[5] + tab.table[2][5]*p+(p*p+p)*0.5*tab.table[3][5]+p*(p+1)*(p+2)*tab.table[4][5]/6\n",
    "print(Y)"
   ]
  },
  {
   "cell_type": "markdown",
   "id": "93f67b56",
   "metadata": {},
   "source": [
    "<hr style=\"height:2px;border-width:0;color:gray;background-color:gray\">"
   ]
  },
  {
   "cell_type": "code",
   "execution_count": 24,
   "id": "6cc14bc9",
   "metadata": {},
   "outputs": [],
   "source": [
    "#q5"
   ]
  },
  {
   "cell_type": "code",
   "execution_count": 25,
   "id": "065e730f",
   "metadata": {},
   "outputs": [],
   "source": [
    "x = [0, 1, 3, 4, 5]\n",
    "y = [0, 1, 81, 256, 625]"
   ]
  },
  {
   "cell_type": "code",
   "execution_count": 26,
   "id": "cf152f42",
   "metadata": {},
   "outputs": [],
   "source": [
    "def lagrange(Xval,Yval,x):\n",
    "    y = 0\n",
    "    for i in range(len(Xval)):\n",
    "        n = d = 1\n",
    "        for j in range(len(Xval)):\n",
    "            if i != j:\n",
    "                n = n*(x-Xval[j])\n",
    "                d = d*(Xval[i]-Xval[j])\n",
    "        y = y + n*Yval[i]/d\n",
    "    return(round(y,4))"
   ]
  },
  {
   "cell_type": "code",
   "execution_count": 27,
   "id": "48015d15",
   "metadata": {},
   "outputs": [
    {
     "name": "stdout",
     "output_type": "stream",
     "text": [
      "16.0\n"
     ]
    }
   ],
   "source": [
    "print(lagrange(x,y,2))"
   ]
  },
  {
   "cell_type": "markdown",
   "id": "f6de368b",
   "metadata": {},
   "source": [
    "<hr style=\"height:2px;border-width:0;color:gray;background-color:gray\">\n",
    "<hr style=\"height:2px;border-width:0;color:gray;background-color:gray\">"
   ]
  },
  {
   "cell_type": "code",
   "execution_count": 28,
   "id": "df199bac",
   "metadata": {},
   "outputs": [],
   "source": [
    "#C. Numerical Integration"
   ]
  },
  {
   "cell_type": "code",
   "execution_count": 29,
   "id": "39fb9b7f",
   "metadata": {},
   "outputs": [],
   "source": [
    "#q6"
   ]
  },
  {
   "cell_type": "code",
   "execution_count": 30,
   "id": "226f0340",
   "metadata": {},
   "outputs": [],
   "source": [
    "def function(x):\n",
    "    y = np.sin(x)/np.exp(x)\n",
    "    return y"
   ]
  },
  {
   "cell_type": "code",
   "execution_count": 31,
   "id": "d239129e",
   "metadata": {},
   "outputs": [],
   "source": [
    "def trapezoid(f,l,s):#first last step\n",
    "    x = np.linspace(f,l,s+1)\n",
    "    I = 0\n",
    "    for i in range(len(x)):\n",
    "        if x[i]>f or x[i]<l:\n",
    "            I += 2*function(x[i])\n",
    "        else:\n",
    "            I += function(x[i])\n",
    "        \n",
    "    return I * 0.5* (x[1]-x[0])"
   ]
  },
  {
   "cell_type": "code",
   "execution_count": 32,
   "id": "7b247704",
   "metadata": {},
   "outputs": [
    {
     "data": {
      "text/plain": [
       "0.5194637027711455"
      ]
     },
     "execution_count": 32,
     "metadata": {},
     "output_type": "execute_result"
    }
   ],
   "source": [
    "trapezoid(0,np.pi,20)"
   ]
  },
  {
   "cell_type": "markdown",
   "id": "d89da5fc",
   "metadata": {},
   "source": [
    "<hr style=\"height:2px;border-width:0;color:gray;background-color:gray\">"
   ]
  },
  {
   "cell_type": "code",
   "execution_count": 33,
   "id": "c0cee845",
   "metadata": {},
   "outputs": [],
   "source": [
    "#q7"
   ]
  },
  {
   "cell_type": "code",
   "execution_count": 34,
   "id": "6810dc93",
   "metadata": {},
   "outputs": [],
   "source": [
    "def f1(x):\n",
    "    y = np.exp(-x*x/2)\n",
    "    return y"
   ]
  },
  {
   "cell_type": "code",
   "execution_count": 35,
   "id": "a8d64ea5",
   "metadata": {},
   "outputs": [],
   "source": [
    "def sim3(f,l,s):#first last step\n",
    "    x = np.linspace(f,l,s+1)\n",
    "    I = 0\n",
    "    for i in range(len(x)):\n",
    "        if x[i]>f or x[i]<l:\n",
    "            if i%2 == 0:\n",
    "                I += 2*f1(x[i])\n",
    "            else:\n",
    "                I += 4*f1(x[i])\n",
    "        else:\n",
    "            I += f1(x[i])\n",
    "    I = I*np.sqrt(1/(2*np.pi))\n",
    "    I = I * (x[1]-x[0])/3\n",
    "    return I "
   ]
  },
  {
   "cell_type": "code",
   "execution_count": 36,
   "id": "68689964",
   "metadata": {},
   "outputs": [
    {
     "data": {
      "text/plain": [
       "0.9999508833741578"
      ]
     },
     "execution_count": 36,
     "metadata": {},
     "output_type": "execute_result"
    }
   ],
   "source": [
    "sim3(-4,4,50)"
   ]
  },
  {
   "cell_type": "markdown",
   "id": "c1e90a9a",
   "metadata": {},
   "source": [
    "<hr style=\"height:2px;border-width:0;color:gray;background-color:gray\">\n",
    "<hr style=\"height:2px;border-width:0;color:gray;background-color:gray\">"
   ]
  },
  {
   "cell_type": "code",
   "execution_count": 37,
   "id": "3e86f573",
   "metadata": {},
   "outputs": [],
   "source": [
    "#D. Numerical Differential Equations:"
   ]
  },
  {
   "cell_type": "code",
   "execution_count": 38,
   "id": "7e60d042",
   "metadata": {},
   "outputs": [],
   "source": [
    "def f1(x):\n",
    "    return x*x+x"
   ]
  },
  {
   "cell_type": "code",
   "execution_count": 39,
   "id": "df20d897",
   "metadata": {},
   "outputs": [],
   "source": [
    "#q8"
   ]
  },
  {
   "cell_type": "code",
   "execution_count": 40,
   "id": "ed435103",
   "metadata": {},
   "outputs": [],
   "source": [
    "x = np.linspace(0,2,21)\n",
    "y = np.zeros(len(x))\n",
    "h = x[1]-x[0]\n",
    "y[0]= 1\n",
    "MT = PrettyTable()\n",
    "MT.field_names = [\"X\", \"Y\"]"
   ]
  },
  {
   "cell_type": "code",
   "execution_count": 41,
   "id": "dd9a5c04",
   "metadata": {},
   "outputs": [],
   "source": [
    "MT.add_row([round(x[0],4),round(y[0],4)])\n",
    "for i in range(1,len(y)):\n",
    "    y[i] = y[i-1] +h*f1(x[i-1])\n",
    "    MT.add_row([round(x[i],4),round(y[i],4)])"
   ]
  },
  {
   "cell_type": "code",
   "execution_count": 42,
   "id": "d14878c6",
   "metadata": {},
   "outputs": [
    {
     "name": "stdout",
     "output_type": "stream",
     "text": [
      "+-----+-------+\n",
      "|  X  |   Y   |\n",
      "+-----+-------+\n",
      "| 0.0 |  1.0  |\n",
      "| 0.1 |  1.0  |\n",
      "| 0.2 | 1.011 |\n",
      "| 0.3 | 1.035 |\n",
      "| 0.4 | 1.074 |\n",
      "| 0.5 |  1.13 |\n",
      "| 0.6 | 1.205 |\n",
      "| 0.7 | 1.301 |\n",
      "| 0.8 |  1.42 |\n",
      "| 0.9 | 1.564 |\n",
      "| 1.0 | 1.735 |\n",
      "| 1.1 | 1.935 |\n",
      "| 1.2 | 2.166 |\n",
      "| 1.3 |  2.43 |\n",
      "| 1.4 | 2.729 |\n",
      "| 1.5 | 3.065 |\n",
      "| 1.6 |  3.44 |\n",
      "| 1.7 | 3.856 |\n",
      "| 1.8 | 4.315 |\n",
      "| 1.9 | 4.819 |\n",
      "| 2.0 |  5.37 |\n",
      "+-----+-------+\n"
     ]
    }
   ],
   "source": [
    "print(MT)"
   ]
  },
  {
   "cell_type": "code",
   "execution_count": 43,
   "id": "93f26eac",
   "metadata": {},
   "outputs": [
    {
     "data": {
      "text/plain": [
       "[<matplotlib.lines.Line2D at 0x243687cbb80>]"
      ]
     },
     "execution_count": 43,
     "metadata": {},
     "output_type": "execute_result"
    },
    {
     "data": {
      "image/png": "[encoded data removed]",
      "text/plain": [
       "<Figure size 640x480 with 1 Axes>"
      ]
     },
     "metadata": {},
     "output_type": "display_data"
    }
   ],
   "source": [
    "plt.plot(x,y)"
   ]
  },
  {
   "cell_type": "markdown",
   "id": "5dfb4111",
   "metadata": {},
   "source": [
    "<hr style=\"height:2px;border-width:0;color:gray;background-color:gray\">"
   ]
  },
  {
   "cell_type": "code",
   "execution_count": 44,
   "id": "51fe4e2a",
   "metadata": {},
   "outputs": [],
   "source": [
    "#q9"
   ]
  },
  {
   "cell_type": "code",
   "execution_count": 45,
   "id": "792204f8",
   "metadata": {},
   "outputs": [],
   "source": [
    "x = np.linspace(0,2,11)\n",
    "y = np.zeros(len(x))\n",
    "y[0] = 1\n",
    "MT = PrettyTable()\n",
    "MT.field_names = [\"X\", \"Y\"]"
   ]
  },
  {
   "cell_type": "code",
   "execution_count": 46,
   "id": "e3ad3c5d",
   "metadata": {},
   "outputs": [],
   "source": [
    "MT.add_row([round(x[0],4),round(y[0],4)])\n",
    "for i in range(1,len(y)):\n",
    "    y[i] = y[i-1] + h *  0.5 * (f1(x[i-1]) + f1(x[i-1] + h) )\n",
    "    MT.add_row([round(x[i],4),round(y[i],4)])"
   ]
  },
  {
   "cell_type": "code",
   "execution_count": 47,
   "id": "b73cd26f",
   "metadata": {},
   "outputs": [
    {
     "name": "stdout",
     "output_type": "stream",
     "text": [
      "+-----+--------+\n",
      "|  X  |   Y    |\n",
      "+-----+--------+\n",
      "| 0.0 |  1.0   |\n",
      "| 0.2 | 1.0055 |\n",
      "| 0.4 | 1.037  |\n",
      "| 0.6 | 1.1025 |\n",
      "| 0.8 |  1.21  |\n",
      "| 1.0 | 1.3675 |\n",
      "| 1.2 | 1.583  |\n",
      "| 1.4 | 1.8645 |\n",
      "| 1.6 |  2.22  |\n",
      "| 1.8 | 2.6575 |\n",
      "| 2.0 | 3.185  |\n",
      "+-----+--------+\n"
     ]
    }
   ],
   "source": [
    "print(MT)"
   ]
  },
  {
   "cell_type": "code",
   "execution_count": 48,
   "id": "4f33c51d",
   "metadata": {},
   "outputs": [
    {
     "data": {
      "text/plain": [
       "[<matplotlib.lines.Line2D at 0x2436880fa90>]"
      ]
     },
     "execution_count": 48,
     "metadata": {},
     "output_type": "execute_result"
    },
    {
     "data": {
      "image/png": "[encoded data removed]",
      "text/plain": [
       "<Figure size 640x480 with 1 Axes>"
      ]
     },
     "metadata": {},
     "output_type": "display_data"
    }
   ],
   "source": [
    "plt.plot(x,y)"
   ]
  },
  {
   "cell_type": "markdown",
   "id": "50a12531",
   "metadata": {},
   "source": [
    "<hr style=\"height:2px;border-width:0;color:gray;background-color:gray\">"
   ]
  },
  {
   "cell_type": "code",
   "execution_count": 49,
   "id": "85e697a2",
   "metadata": {},
   "outputs": [],
   "source": [
    "#q10"
   ]
  },
  {
   "cell_type": "code",
   "execution_count": 50,
   "id": "411403a4",
   "metadata": {},
   "outputs": [],
   "source": [
    "x = np.linspace(0, 1, 11)\n",
    "y = np.zeros(len(x))\n",
    "y[0] = y[-1] = 0\n",
    "MT = PrettyTable()\n",
    "MT.field_names = [\"X\", \"Y\"]"
   ]
  },
  {
   "cell_type": "code",
   "execution_count": 51,
   "id": "3a4bfa0e",
   "metadata": {},
   "outputs": [],
   "source": [
    "A = np.zeros((9, 9))\n",
    "B = np.zeros(9)\n",
    "h = x[1] - x[0]\n",
    "p = -64\n",
    "q = 0\n",
    "r = -10"
   ]
  },
  {
   "cell_type": "code",
   "execution_count": 52,
   "id": "57507ca8",
   "metadata": {},
   "outputs": [],
   "source": [
    "a = 1 - 0.5 * h * p\n",
    "b = -2 + h * h * q\n",
    "c = 1 + 0.5 * h * p\n",
    "d = h*h*r*r"
   ]
  },
  {
   "cell_type": "code",
   "execution_count": 53,
   "id": "d1f2aae8",
   "metadata": {},
   "outputs": [],
   "source": [
    "np.fill_diagonal(A, b)\n",
    "np.fill_diagonal(A[1:], a)\n",
    "np.fill_diagonal(A[:, 1:], c)\n",
    "B = np.full(9, d)\n",
    "\n",
    "\n",
    "B[0] -= a * y[0] \n",
    "B[-1] -= c * y[-1] "
   ]
  },
  {
   "cell_type": "code",
   "execution_count": 54,
   "id": "824281c7",
   "metadata": {},
   "outputs": [],
   "source": [
    "y[1:-1] = np.linalg.solve(A, B)"
   ]
  },
  {
   "cell_type": "code",
   "execution_count": 55,
   "id": "3287d931",
   "metadata": {},
   "outputs": [],
   "source": [
    "for i in range(len(x)):\n",
    "    MT.add_row([round(x[i],1), round(y[i],3)])"
   ]
  },
  {
   "cell_type": "code",
   "execution_count": 56,
   "id": "a6d39ec5",
   "metadata": {},
   "outputs": [
    {
     "name": "stdout",
     "output_type": "stream",
     "text": [
      "+-----+--------+\n",
      "|  X  |   Y    |\n",
      "+-----+--------+\n",
      "| 0.0 |  0.0   |\n",
      "| 0.1 | -0.163 |\n",
      "| 0.2 | -0.306 |\n",
      "| 0.3 | -0.488 |\n",
      "| 0.4 | -0.595 |\n",
      "| 0.5 | -0.845 |\n",
      "| 0.6 | -0.822 |\n",
      "| 0.7 | -1.321 |\n",
      "| 0.8 | -0.823 |\n",
      "| 0.9 | -2.228 |\n",
      "| 1.0 |  0.0   |\n",
      "+-----+--------+\n"
     ]
    }
   ],
   "source": [
    "print(MT)"
   ]
  },
  {
   "cell_type": "code",
   "execution_count": 57,
   "id": "3ad61bd9",
   "metadata": {},
   "outputs": [
    {
     "data": {
      "text/plain": [
       "[<matplotlib.lines.Line2D at 0x2436889b550>]"
      ]
     },
     "execution_count": 57,
     "metadata": {},
     "output_type": "execute_result"
    },
    {
     "data": {
      "image/png": "[encoded data removed]",
      "text/plain": [
       "<Figure size 640x480 with 1 Axes>"
      ]
     },
     "metadata": {},
     "output_type": "display_data"
    }
   ],
   "source": [
    "plt.plot(x, y)"
   ]
  },
  {
   "cell_type": "markdown",
   "id": "8fa1f641",
   "metadata": {},
   "source": [
    "<hr style=\"height:2px;border-width:0;color:gray;background-color:gray\">\n",
    "<hr style=\"height:2px;border-width:0;color:gray;background-color:gray\">"
   ]
  },
  {
   "cell_type": "code",
   "execution_count": 58,
   "id": "0c656c82",
   "metadata": {},
   "outputs": [],
   "source": [
    "#E. Curve Fitting"
   ]
  },
  {
   "cell_type": "code",
   "execution_count": 59,
   "id": "40f57866",
   "metadata": {},
   "outputs": [],
   "source": [
    "#q11"
   ]
  },
  {
   "cell_type": "code",
   "execution_count": 60,
   "id": "6ef1c090",
   "metadata": {},
   "outputs": [],
   "source": [
    "x = np.array([1, 2, 3, 4, 5, 6])\n",
    "y = np.array([2.4, 3.1, 3.5, 4.2, 5.0, 6.0])\n",
    "m = len(x)"
   ]
  },
  {
   "cell_type": "code",
   "execution_count": 61,
   "id": "a5ff4df2",
   "metadata": {},
   "outputs": [],
   "source": [
    "m = len(x)\n",
    "xy_sum = np.sum(x * y)\n",
    "x_sum = np.sum(x)\n",
    "y_sum = np.sum(y)\n",
    "x_squared_sum = np.sum(x ** 2)"
   ]
  },
  {
   "cell_type": "code",
   "execution_count": 62,
   "id": "ca04b824",
   "metadata": {},
   "outputs": [],
   "source": [
    "a1 = (m * xy_sum - x_sum * y_sum) / (m * x_squared_sum - x_sum ** 2)\n",
    "a0 = (y_sum - a1 * x_sum) / m"
   ]
  },
  {
   "cell_type": "code",
   "execution_count": 63,
   "id": "b1225927",
   "metadata": {},
   "outputs": [
    {
     "name": "stdout",
     "output_type": "stream",
     "text": [
      "3.336190476190475\n"
     ]
    }
   ],
   "source": [
    "def y1(x): \n",
    "    return a0 + a1 *x \n",
    "print(y1(2.5))"
   ]
  },
  {
   "cell_type": "code",
   "execution_count": 64,
   "id": "4966259d",
   "metadata": {},
   "outputs": [
    {
     "data": {
      "image/png": "[encoded data removed]",
      "text/plain": [
       "<Figure size 640x480 with 1 Axes>"
      ]
     },
     "metadata": {},
     "output_type": "display_data"
    }
   ],
   "source": [
    "plt.scatter(x,y)\n",
    "plt.plot(x,y1(x), color = 'red')\n",
    "plt.grid()"
   ]
  },
  {
   "cell_type": "markdown",
   "id": "e4bd2f0b",
   "metadata": {},
   "source": [
    "<hr style=\"height:2px;border-width:0;color:gray;background-color:gray\">"
   ]
  },
  {
   "cell_type": "code",
   "execution_count": 65,
   "id": "4df482ff",
   "metadata": {},
   "outputs": [],
   "source": [
    "#q12"
   ]
  },
  {
   "cell_type": "code",
   "execution_count": 66,
   "id": "f3c3b7b3",
   "metadata": {},
   "outputs": [],
   "source": [
    "x = np.array([2,4,6,8,10])\n",
    "y =  np.array([4.077, 11.084, 30.128, 81.897, 222.62])"
   ]
  },
  {
   "cell_type": "code",
   "execution_count": 67,
   "id": "842578c0",
   "metadata": {},
   "outputs": [],
   "source": [
    "Y = np.log(y)\n",
    "m = len(x)\n",
    "xY_sum = np.sum(x * Y)\n",
    "x_sum = np.sum(x)\n",
    "Y_sum = np.sum(Y)\n",
    "x_squared_sum = np.sum(x ** 2)"
   ]
  },
  {
   "cell_type": "code",
   "execution_count": 68,
   "id": "b783e437",
   "metadata": {},
   "outputs": [],
   "source": [
    "a1 = (m * xY_sum - x_sum * Y_sum) / (m * x_squared_sum - x_sum ** 2)\n",
    "a0 = (Y_sum - a1 * x_sum) / m"
   ]
  },
  {
   "cell_type": "code",
   "execution_count": 69,
   "id": "8468432a",
   "metadata": {},
   "outputs": [
    {
     "name": "stdout",
     "output_type": "stream",
     "text": [
      "135.027025924343\n"
     ]
    }
   ],
   "source": [
    "def y2(x):\n",
    "    Y2 = a0 + a1*x\n",
    "    return np.exp(Y2)\n",
    "print(y2(9))"
   ]
  },
  {
   "cell_type": "code",
   "execution_count": 70,
   "id": "8fb8df2d",
   "metadata": {},
   "outputs": [
    {
     "data": {
      "text/plain": [
       "[<matplotlib.lines.Line2D at 0x2436ab95d60>]"
      ]
     },
     "execution_count": 70,
     "metadata": {},
     "output_type": "execute_result"
    },
    {
     "data": {
      "image/png": "[encoded data removed]",
      "text/plain": [
       "<Figure size 640x480 with 1 Axes>"
      ]
     },
     "metadata": {},
     "output_type": "display_data"
    }
   ],
   "source": [
    "plt.plot(x,y)\n",
    "plt.plot(x,y2(x))"
   ]
  },
  {
   "cell_type": "markdown",
   "id": "08a22da6",
   "metadata": {},
   "source": [
    "<hr style=\"height:2px;border-width:0;color:gray;background-color:gray\">\n",
    "<hr style=\"height:2px;border-width:0;color:gray;background-color:gray\">"
   ]
  }
 ],
 "metadata": {
  "kernelspec": {
   "display_name": "Python 3 (ipykernel)",
   "language": "python",
   "name": "python3"
  },
  "language_info": {
   "codemirror_mode": {
    "name": "ipython",
    "version": 3
   },
   "file_extension": ".py",
   "mimetype": "text/x-python",
   "name": "python",
   "nbconvert_exporter": "python",
   "pygments_lexer": "ipython3",
   "version": "3.8.10"
  }
 },
 "nbformat": 4,
 "nbformat_minor": 5
}
